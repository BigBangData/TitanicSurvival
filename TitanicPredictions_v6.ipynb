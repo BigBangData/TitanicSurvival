{
 "cells": [
  {
   "cell_type": "markdown",
   "metadata": {
    "_cell_guid": "dea4893b-a33f-4c70-b33a-4265bdb14bd1",
    "_uuid": "e2ae0dda-05df-4bee-ae8f-5b612c7276e8"
   },
   "source": [
    "# Titanic Survival Predictions\n"
   ]
  },
  {
   "cell_type": "code",
   "execution_count": 120,
   "metadata": {},
   "outputs": [
    {
     "name": "stdout",
     "output_type": "stream",
     "text": [
      "Revised on: 2020-01-26\n"
     ]
    }
   ],
   "source": [
    "from datetime import datetime\n",
    "import time\n",
    "\n",
    "dt_object = datetime.fromtimestamp(time.time())\n",
    "dt_object = str(dt_object).split('.')[0]\n",
    "\n",
    "Date, Time = dt_object.split(' ')\n",
    "print('Revised on: ' + Date)"
   ]
  },
  {
   "cell_type": "markdown",
   "metadata": {},
   "source": [
    "## Load Pre-Processed Data"
   ]
  },
  {
   "cell_type": "code",
   "execution_count": 124,
   "metadata": {
    "_cell_guid": "8ed67410-0b1c-4624-a678-425c37d80aa5",
    "_uuid": "15baa9c3-9543-4522-bfc5-e6cff3818b15"
   },
   "outputs": [],
   "source": [
    "# import modules\n",
    "import pandas as pd\n",
    "import numpy as np\n",
    "\n",
    "# custom modules \n",
    "import modeling_functions as mf\n",
    "\n",
    "# load pre-processed training data\n",
    "train_data = pd.read_csv(\"./train_processed.csv\")\n",
    "\n",
    "# separate target from predictors in training set\n",
    "survived_labels = train_data['Survived'].copy()\n",
    "train_data_nolabel = train_data.drop('Survived', axis=1)\n",
    "\n",
    "# drop numerical features which dominate, and IsMale which duplicates title\n",
    "train_data_nolabel.drop(['IsMale','NameLength','FarePerPerson'], axis=1, inplace=True)\n",
    "\n",
    "# get processed training data and labels\n",
    "X = train_data_nolabel.to_numpy()\n",
    "y = survived_labels.to_numpy()"
   ]
  },
  {
   "cell_type": "markdown",
   "metadata": {},
   "source": [
    "## Modeling all Features"
   ]
  },
  {
   "cell_type": "code",
   "execution_count": 129,
   "metadata": {},
   "outputs": [],
   "source": [
    "from sklearn.ensemble import RandomForestClassifier\n",
    "from sklearn.model_selection import cross_val_predict\n",
    "from sklearn.model_selection import GridSearchCV\n",
    "\n",
    "%matplotlib inline\n",
    "import matplotlib.pyplot as plt\n",
    "plt.style.use('seaborn-whitegrid')\n",
    "import pickle"
   ]
  },
  {
   "cell_type": "code",
   "execution_count": 132,
   "metadata": {},
   "outputs": [],
   "source": [
    "try:\n",
    "    rf_grid_search = pickle.load(open('./RandomForest_GridSearch_5.sav', 'rb'))\n",
    "except FileNotFoundError as e:\n",
    "    num_estimators = list(range(300,500,15))\n",
    "    \n",
    "    grid_param = {\n",
    "        'n_estimators': num_estimators,\n",
    "        'criterion': ['entropy'],\n",
    "        'bootstrap': [True]\n",
    "    }\n",
    "    \n",
    "    rf_grid_search = GridSearchCV(estimator=RandomForestClassifier(random_state=42),\n",
    "                                    param_grid=grid_param,\n",
    "                                    scoring='accuracy',\n",
    "                                    cv=5,\n",
    "                                    n_jobs=-1)\n",
    "    \n",
    "    # running the grid search: this takes time...\n",
    "    rf_grid_search.fit(X, y)\n",
    "    \n",
    "    # pickle the model for future ease\n",
    "    pickle.dump(rf_grid_search, open('./RandomForest_GridSearch_5.sav', 'wb'))"
   ]
  },
  {
   "cell_type": "code",
   "execution_count": 133,
   "metadata": {},
   "outputs": [
    {
     "data": {
      "text/plain": [
       "({'bootstrap': True, 'criterion': 'entropy', 'n_estimators': 390},\n",
       " 'Accuracy: 82.19999999999999%')"
      ]
     },
     "execution_count": 133,
     "metadata": {},
     "output_type": "execute_result"
    }
   ],
   "source": [
    "rf_grid_search.best_params_ , 'Accuracy: ' + str(round(rf_grid_search_1.best_score_, 3)*100) + '%'"
   ]
  },
  {
   "cell_type": "markdown",
   "metadata": {},
   "source": [
    "## Training Best RF model plus Feature Selection"
   ]
  },
  {
   "cell_type": "code",
   "execution_count": 143,
   "metadata": {},
   "outputs": [
    {
     "name": "stdout",
     "output_type": "stream",
     "text": [
      "Full data accuracy: 0.79888\n",
      "Important subset accuracy: 0.80447\n"
     ]
    }
   ],
   "source": [
    "from sklearn.feature_selection import SelectFromModel\n",
    "from sklearn.model_selection import train_test_split\n",
    "from sklearn.metrics import accuracy_score\n",
    "\n",
    "# split training data into 20% test and 80% training\n",
    "X_train, X_test, y_train, y_test = train_test_split(X, y, test_size=0.20, random_state=42)\n",
    "\n",
    "# train best RF classifier\n",
    "forest_clf = RandomForestClassifier(bootstrap=True, \n",
    "                                    criterion='entropy', \n",
    "                                    n_estimators=390, \n",
    "                                    random_state=42)\n",
    "\n",
    "forest_clf.fit(X_train, y_train)\n",
    "\n",
    "# select subset with most important features (threshold defined with elbow plot)\n",
    "sfm = SelectFromModel(forest_clf, threshold=0.02)\n",
    "sfm.fit(X_train, y_train)\n",
    "\n",
    "# create subsets with most important features\n",
    "X_train_imp = sfm.transform(X_train)\n",
    "X_test_imp = sfm.transform(X_test)\n",
    "\n",
    "# train a new model on this subset\n",
    "forest_clf_imp =  RandomForestClassifier(bootstrap=True, \n",
    "                                        criterion='entropy', \n",
    "                                        n_estimators=390, \n",
    "                                        random_state=42)\n",
    "\n",
    "forest_clf_imp.fit(X_train_imp, y_train)\n",
    "\n",
    "# predict on the test set using the full dataset\n",
    "y_pred = forest_clf.predict(X_test)\n",
    "full_accuracy = str(round(accuracy_score(y_test, y_pred), 5)) \n",
    "\n",
    "# predict on the test set using the important subset model\n",
    "y_pred_imp = forest_clf_imp.predict(X_test_imp)\n",
    "important_accuracy = str(round(accuracy_score(y_test, y_pred_imp), 5)) \n",
    "\n",
    "print('Full data accuracy: ' + full_accuracy)\n",
    "print('Important subset accuracy: ' + important_accuracy)"
   ]
  },
  {
   "cell_type": "markdown",
   "metadata": {},
   "source": [
    "### TEST"
   ]
  },
  {
   "cell_type": "code",
   "execution_count": 136,
   "metadata": {},
   "outputs": [],
   "source": [
    "# Load test dataset\n",
    "test_data = pd.read_csv(\"../input/test.csv\")\n",
    "test_PassengerId = test_data['PassengerId'].copy()\n",
    "\n",
    "test_data_processed = pd.read_csv(\"./test_processed.csv\")\n",
    "test_data_processed.drop(['IsMale','NameLength','FarePerPerson'], axis=1, inplace=True)\n",
    "\n",
    "X_test = test_data_processed.to_numpy()\n",
    "\n",
    "X_test_imp = sfm.transform(X_test)\n",
    "\n",
    "# get predictions using our two RF classifiers\n",
    "y_pred_full = forest_clf.predict(X_test)\n",
    "y_pred_imp = forest_clf_imp.predict(X_test_imp)\n",
    "\n",
    "# full data CSV\n",
    "dict_full = { 'PassengerId': test_PassengerId, 'Survived': pd.Series(y_pred_full) } \n",
    "rf_full = pd.DataFrame(dict_full) \n",
    "rf_full.to_csv('./rf_full3.csv', index=False)\n",
    "\n",
    "# important subset CSV\n",
    "dict_imp = { 'PassengerId': test_PassengerId, 'Survived': pd.Series(y_pred_imp) } \n",
    "rf_imp = pd.DataFrame(dict_imp) \n",
    "rf_imp.to_csv('./rf_imp3.csv', index=False)"
   ]
  },
  {
   "cell_type": "markdown",
   "metadata": {},
   "source": [
    "### Elbow plot"
   ]
  },
  {
   "cell_type": "code",
   "execution_count": 139,
   "metadata": {},
   "outputs": [
    {
     "data": {
      "text/plain": [
       "RandomForestClassifier(bootstrap=True, class_weight=None, criterion='entropy',\n",
       "                       max_depth=None, max_features='auto', max_leaf_nodes=None,\n",
       "                       min_impurity_decrease=0.0, min_impurity_split=None,\n",
       "                       min_samples_leaf=1, min_samples_split=2,\n",
       "                       min_weight_fraction_leaf=0.0, n_estimators=390,\n",
       "                       n_jobs=None, oob_score=False, random_state=42, verbose=0,\n",
       "                       warm_start=False)"
      ]
     },
     "execution_count": 139,
     "metadata": {},
     "output_type": "execute_result"
    }
   ],
   "source": [
    "from sklearn.feature_selection import SelectFromModel\n",
    "\n",
    "# train full model on best classifier\n",
    "forest_clf = RandomForestClassifier(bootstrap=True,\n",
    "                                    criterion='entropy',\n",
    "                                    n_estimators=390,\n",
    "                                    random_state=42)\n",
    "forest_clf.fit(X, y)\n",
    "\n",
    "# create dataframe of labels and importance scores\n",
    "importance_df = pd.DataFrame(list(zip(train_data_nolabel.columns, forest_clf.feature_importances_)),\n",
    "                       columns=['Labels','Importance'])\n",
    "\n",
    "importance_df.sort_values(by=['Importance'], ascending=False, inplace=True)\n",
    "\n",
    "# plot an \"elbow\" plot of feature importance\n",
    "plt.rcParams['figure.figsize'] = [14, 8]\n",
    "mf.elbow_plot(importance_df['Labels'], \n",
    "           importance_df['Importance'])"
   ]
  },
  {
   "cell_type": "markdown",
   "metadata": {},
   "source": [
    "## Submissions\n",
    "\n",
    "The full model above got 0.79888 in validation and 0.77511 in the public test set.\n",
    "\n",
    "The important model (see elbow plot) got 0.80447 in validation and 0.77990 in the public test set."
   ]
  },
  {
   "cell_type": "markdown",
   "metadata": {},
   "source": [
    "Add `Fare`?"
   ]
  },
  {
   "cell_type": "code",
   "execution_count": 145,
   "metadata": {},
   "outputs": [],
   "source": [
    "# load pre-processed training data\n",
    "train_data = pd.read_csv(\"./train_processed.csv\")\n",
    "\n",
    "# separate target from predictors in training set\n",
    "survived_labels = train_data['Survived'].copy()\n",
    "train_data_nolabel = train_data.drop('Survived', axis=1)\n",
    "\n",
    "# drop numerical features which dominate, and IsMale which duplicates title -- keep FarePerPerson\n",
    "train_data_nolabel.drop(['IsMale','NameLength'], axis=1, inplace=True)\n",
    "\n",
    "# get processed training data and labels\n",
    "X = train_data_nolabel.to_numpy()\n",
    "y = survived_labels.to_numpy()"
   ]
  },
  {
   "cell_type": "code",
   "execution_count": 149,
   "metadata": {},
   "outputs": [],
   "source": [
    "try:\n",
    "    rf_grid_search = pickle.load(open('./RandomForest_GridSearch_6.sav', 'rb'))\n",
    "except FileNotFoundError as e:\n",
    "    num_estimators = list(range(350,450,2))\n",
    "    \n",
    "    grid_param = {\n",
    "        'n_estimators': num_estimators,\n",
    "        'criterion': ['entropy'],\n",
    "        'bootstrap': [True]\n",
    "    }\n",
    "    \n",
    "    rf_grid_search = GridSearchCV(estimator=RandomForestClassifier(random_state=42),\n",
    "                                    param_grid=grid_param,\n",
    "                                    scoring='accuracy',\n",
    "                                    cv=5,\n",
    "                                    n_jobs=-1)\n",
    "    \n",
    "    # running the grid search: this takes time...\n",
    "    rf_grid_search.fit(X, y)\n",
    "    \n",
    "    # pickle the model for future ease\n",
    "    pickle.dump(rf_grid_search, open('./RandomForest_GridSearch_6.sav', 'wb'))"
   ]
  },
  {
   "cell_type": "code",
   "execution_count": 151,
   "metadata": {},
   "outputs": [
    {
     "data": {
      "text/plain": [
       "({'bootstrap': True, 'criterion': 'entropy', 'n_estimators': 384},\n",
       " 'Accuracy: 82.19999999999999%')"
      ]
     },
     "execution_count": 151,
     "metadata": {},
     "output_type": "execute_result"
    }
   ],
   "source": [
    "rf_grid_search.best_params_ , 'Accuracy: ' + str(round(rf_grid_search_1.best_score_, 3)*100) + '%'"
   ]
  },
  {
   "cell_type": "markdown",
   "metadata": {},
   "source": [
    "### Training Best RF model plus Feature Selection"
   ]
  },
  {
   "cell_type": "code",
   "execution_count": 162,
   "metadata": {},
   "outputs": [
    {
     "name": "stdout",
     "output_type": "stream",
     "text": [
      "Full data accuracy: 0.82123\n",
      "Important subset accuracy: 0.82123\n"
     ]
    }
   ],
   "source": [
    "# split training data into 20% test and 80% training\n",
    "X_train, X_test, y_train, y_test = train_test_split(X, y, test_size=0.20, random_state=42)\n",
    "\n",
    "# train best RF classifier\n",
    "forest_clf = RandomForestClassifier(bootstrap=True, \n",
    "                                    criterion='entropy', \n",
    "                                    n_estimators=384, \n",
    "                                    random_state=42)\n",
    "\n",
    "forest_clf.fit(X_train, y_train)\n",
    "\n",
    "# select subset with most important features (threshold defined with elbow plot)\n",
    "sfm = SelectFromModel(forest_clf, threshold=0.02)\n",
    "sfm.fit(X_train, y_train)\n",
    "\n",
    "# create subsets with most important features\n",
    "X_train_imp = sfm.transform(X_train)\n",
    "X_test_imp = sfm.transform(X_test)\n",
    "\n",
    "# train a new model on this subset\n",
    "forest_clf_imp =  RandomForestClassifier(bootstrap=True, \n",
    "                                        criterion='entropy', \n",
    "                                        n_estimators=384, \n",
    "                                        random_state=42)\n",
    "\n",
    "forest_clf_imp.fit(X_train_imp, y_train)\n",
    "\n",
    "# predict on the test set using the full dataset\n",
    "y_pred = forest_clf.predict(X_test)\n",
    "full_accuracy = str(round(accuracy_score(y_test, y_pred), 5)) \n",
    "\n",
    "# predict on the test set using the important subset model\n",
    "y_pred_imp = forest_clf_imp.predict(X_test_imp)\n",
    "important_accuracy = str(round(accuracy_score(y_test, y_pred_imp), 5)) \n",
    "\n",
    "print('Full data accuracy: ' + full_accuracy)\n",
    "print('Important subset accuracy: ' + important_accuracy)"
   ]
  },
  {
   "cell_type": "markdown",
   "metadata": {},
   "source": [
    "### TEST"
   ]
  },
  {
   "cell_type": "code",
   "execution_count": 154,
   "metadata": {},
   "outputs": [],
   "source": [
    "# Load test dataset\n",
    "test_data = pd.read_csv(\"../input/test.csv\")\n",
    "test_PassengerId = test_data['PassengerId'].copy()\n",
    "\n",
    "test_data_processed = pd.read_csv(\"./test_processed.csv\")\n",
    "test_data_processed.drop(['IsMale','NameLength'], axis=1, inplace=True)\n",
    "\n",
    "X_test = test_data_processed.to_numpy()\n",
    "X_test_imp = sfm.transform(X_test)\n",
    "\n",
    "# get predictions using our two RF classifiers\n",
    "y_pred_full = forest_clf.predict(X_test)\n",
    "y_pred_imp = forest_clf_imp.predict(X_test_imp)\n",
    "\n",
    "# full data CSV\n",
    "dict_full = { 'PassengerId': test_PassengerId, 'Survived': pd.Series(y_pred_full) } \n",
    "rf_full = pd.DataFrame(dict_full) \n",
    "rf_full.to_csv('./rf_full4.csv', index=False)\n",
    "\n",
    "# important subset CSV\n",
    "dict_imp = { 'PassengerId': test_PassengerId, 'Survived': pd.Series(y_pred_imp) } \n",
    "rf_imp = pd.DataFrame(dict_imp) \n",
    "rf_imp.to_csv('./rf_imp4.csv', index=False)"
   ]
  },
  {
   "cell_type": "markdown",
   "metadata": {},
   "source": [
    "### Elbow plot"
   ]
  },
  {
   "cell_type": "code",
   "execution_count": 160,
   "metadata": {},
   "outputs": [
    {
     "data": {
      "image/png": "[encoded data removed]",
      "text/plain": [
       "<Figure size 1008x576 with 1 Axes>"
      ]
     },
     "metadata": {},
     "output_type": "display_data"
    }
   ],
   "source": [
    "# train full model on best classifier\n",
    "forest_clf = RandomForestClassifier(bootstrap=True,\n",
    "                                    criterion='entropy',\n",
    "                                    n_estimators=384,\n",
    "                                    random_state=42)\n",
    "forest_clf.fit(X, y)\n",
    "\n",
    "# create dataframe of labels and importance scores\n",
    "importance_df = pd.DataFrame(list(zip(train_data_nolabel.columns, forest_clf.feature_importances_)),\n",
    "                       columns=['Labels','Importance'])\n",
    "\n",
    "importance_df.sort_values(by=['Importance'], ascending=False, inplace=True)\n",
    "\n",
    "# plot an \"elbow\" plot of feature importance\n",
    "plt.rcParams['figure.figsize'] = [14, 8]\n",
    "mf.elbow_plot(importance_df['Labels'],#[importance_df['Importance']>.02], \n",
    "              importance_df['Importance']#[importance_df['Importance']>.02]\n",
    "             )"
   ]
  },
  {
   "cell_type": "markdown",
   "metadata": {},
   "source": [
    "## Submissions\n",
    "\n",
    "The full model above got 0.82123 in validation, predicted 152 survivals, and 0.78468 in the public test set.\n",
    "\n",
    "The important model (see elbow plot) got 0.82123 in validation, predicted 160 survivals, and also got 0.78468 in the public test set."
   ]
  },
  {
   "cell_type": "code",
   "execution_count": null,
   "metadata": {},
   "outputs": [],
   "source": []
  },
  {
   "cell_type": "code",
   "execution_count": null,
   "metadata": {},
   "outputs": [],
   "source": []
  },
  {
   "cell_type": "code",
   "execution_count": null,
   "metadata": {},
   "outputs": [],
   "source": []
  },
  {
   "cell_type": "code",
   "execution_count": null,
   "metadata": {},
   "outputs": [],
   "source": []
  },
  {
   "cell_type": "markdown",
   "metadata": {},
   "source": [
    "### XGBoost"
   ]
  },
  {
   "cell_type": "code",
   "execution_count": 117,
   "metadata": {},
   "outputs": [
    {
     "name": "stdout",
     "output_type": "stream",
     "text": [
      "Accuracy with defaults: 81.01%\n",
      "Accuracy w/ best model: 80.45%\n",
      "Accuracy w/ third model: 82.12%\n"
     ]
    }
   ],
   "source": [
    "from xgboost import XGBClassifier\n",
    "\n",
    "# split training data into 20% test and 80% training\n",
    "X_train, X_test, y_train, y_test = train_test_split(X, y, test_size=0.20, random_state=42)\n",
    "\n",
    "# default model\n",
    "xgb_def = XGBClassifier()\n",
    "xgb_def.fit(X_train, y_train)\n",
    "y_pred_def = xgb_def.predict(X_test)\n",
    "accuracy_def = accuracy_score(y_test, y_pred_def)\n",
    "\n",
    "\n",
    "xgb_best = XGBClassifier(objective='binary:logistic', \n",
    "                         colsample_bytree=0.8, \n",
    "                         learning_rate=0.15,\n",
    "                         n_estimators=150,\n",
    "                         random_state=42)\n",
    "\n",
    "# best model\n",
    "xgb_best.fit(X_train, y_train)\n",
    "y_pred_best = xgb_best.predict(X_test)\n",
    "accuracy_best = accuracy_score(y_test, y_pred_best)\n",
    "\n",
    "xgb_third = XGBClassifier(objective='binary:logistic', \n",
    "                          colsample_bytree=0.8, \n",
    "                          learning_rate=0.1,\n",
    "                          max_depth=3,\n",
    "                          n_estimators=250,\n",
    "                          reg_alpha=10,\n",
    "                          random_state=42)\n",
    "\n",
    "# a third model\n",
    "xgb_third.fit(X_train, y_train)\n",
    "y_pred_third = xgb_third.predict(X_test)\n",
    "accuracy_third = accuracy_score(y_test, y_pred_third)\n",
    "\n",
    "print(\"Accuracy with defaults: %.2f%%\" % (accuracy_def * 100.0))\n",
    "print(\"Accuracy w/ best model: %.2f%%\" % (accuracy_best * 100.0))\n",
    "print(\"Accuracy w/ third model: %.2f%%\" % (accuracy_third * 100.0))"
   ]
  },
  {
   "cell_type": "code",
   "execution_count": null,
   "metadata": {},
   "outputs": [],
   "source": [
    "xgb_third.fit(X_test, )"
   ]
  },
  {
   "cell_type": "code",
   "execution_count": null,
   "metadata": {},
   "outputs": [],
   "source": []
  },
  {
   "cell_type": "code",
   "execution_count": null,
   "metadata": {},
   "outputs": [],
   "source": []
  },
  {
   "cell_type": "code",
   "execution_count": null,
   "metadata": {},
   "outputs": [],
   "source": []
  },
  {
   "cell_type": "code",
   "execution_count": null,
   "metadata": {},
   "outputs": [],
   "source": []
  },
  {
   "cell_type": "code",
   "execution_count": null,
   "metadata": {},
   "outputs": [],
   "source": []
  },
  {
   "cell_type": "markdown",
   "metadata": {},
   "source": [
    "## Submission"
   ]
  },
  {
   "cell_type": "markdown",
   "metadata": {},
   "source": [
    "I just submitted my first prediction in Kaggle, the XGBoost classifier which got 84.41% accuracy during validation but only 73.68% accuracy on the public leaderboard test subset, so it lost 10% accuracy when generalizing and was probably overfitting."
   ]
  },
  {
   "cell_type": "code",
   "execution_count": null,
   "metadata": {},
   "outputs": [],
   "source": []
  }
 ],
 "metadata": {
  "kernelspec": {
   "display_name": "Python 3",
   "language": "python",
   "name": "python3"
  },
  "language_info": {
   "codemirror_mode": {
    "name": "ipython",
    "version": 3
   },
   "file_extension": ".py",
   "mimetype": "text/x-python",
   "name": "python",
   "nbconvert_exporter": "python",
   "pygments_lexer": "ipython3",
   "version": "3.7.2"
  }
 },
 "nbformat": 4,
 "nbformat_minor": 1
}
