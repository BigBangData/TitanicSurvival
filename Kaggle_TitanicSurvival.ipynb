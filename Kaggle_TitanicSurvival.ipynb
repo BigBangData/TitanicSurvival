{
 "cells": [
  {
   "cell_type": "markdown",
   "metadata": {
    "_cell_guid": "dea4893b-a33f-4c70-b33a-4265bdb14bd1",
    "_uuid": "e2ae0dda-05df-4bee-ae8f-5b612c7276e8"
   },
   "source": [
    "# Titanic Survival Part 2: Machine Learning Predictions in Python"
   ]
  },
  {
   "cell_type": "code",
   "execution_count": 193,
   "metadata": {
    "_cell_guid": "8ed67410-0b1c-4624-a678-425c37d80aa5",
    "_uuid": "15baa9c3-9543-4522-bfc5-e6cff3818b15"
   },
   "outputs": [],
   "source": [
    "# import modules\n",
    "import numpy as np \n",
    "import pandas as pd \n",
    "import os\n",
    "import re \n",
    "\n",
    "# load train dataset \n",
    "train = pd.read_csv(\"../input/train.csv\")"
   ]
  },
  {
   "cell_type": "code",
   "execution_count": 194,
   "metadata": {
    "_cell_guid": "10bb657a-9a2c-4077-be6f-4d04165611d7",
    "_uuid": "8b1572f3-c910-4cd1-a47d-829395b4bd61"
   },
   "outputs": [],
   "source": [
    "# simplify Name\n",
    "def extract_title(a_name):\n",
    "    \"\"\"Given a name from the Name column, extract the title by searching for the pattern, \n",
    "       returning a tuple that identifies whether the regex worked or not.\n",
    "    \"\"\"\n",
    "    try:\n",
    "        return (True, *tuple(re.search(r',\\s(.+?)\\.', a_name).groups()))\n",
    "    except:\n",
    "        return (False, a_name)\n",
    "    \n",
    "parsed_name = train['Name'].map(lambda x: extract_title(x))    "
   ]
  },
  {
   "cell_type": "code",
   "execution_count": 195,
   "metadata": {
    "_cell_guid": "ecc1ec02-ead0-4eef-b213-192d22e33f71",
    "_uuid": "768ffbeb-a940-42ab-966d-7bb660d736ae"
   },
   "outputs": [],
   "source": [
    "# ensure all names were parsed\n",
    "def sum_line(line):\n",
    "    ct = 0\n",
    "    if line[0] == True:\n",
    "        ct += 1\n",
    "    return ct\n",
    "\n",
    "passed = parsed_name.map(lambda x: sum_line(x))\n",
    "assert sum(passed) == len(parsed_name)"
   ]
  },
  {
   "cell_type": "code",
   "execution_count": 196,
   "metadata": {},
   "outputs": [],
   "source": [
    "# create Title\n",
    "def simplify_title(x):\n",
    "    \"\"\"\"Given a parsed name, extract the title from the tuple, \n",
    "       if it belongs to a common title, return that, otherwise, return 'rare'\n",
    "    \"\"\"\n",
    "    try:\n",
    "        a,b = x\n",
    "        if b in [\"Mr\", \"Mrs\", \"Miss\"]:\n",
    "            return (b)\n",
    "        else:\n",
    "            return ('Rare')\n",
    "    except:\n",
    "        return ('')\n",
    "\n",
    "train['Title'] = parsed_name.map(lambda x: simplify_title(x))"
   ]
  },
  {
   "cell_type": "code",
   "execution_count": 197,
   "metadata": {},
   "outputs": [],
   "source": [
    "# Create NameLength\n",
    "train['NameLength'] = train['Name'].map(lambda x: len(x))"
   ]
  },
  {
   "cell_type": "code",
   "execution_count": 198,
   "metadata": {},
   "outputs": [],
   "source": [
    "# Create NumRelatives\n",
    "train['NumRelatives'] = train['SibSp'] + train['Parch']"
   ]
  },
  {
   "cell_type": "code",
   "execution_count": 199,
   "metadata": {},
   "outputs": [],
   "source": [
    "# Create FarePerPerson\n",
    "train['count'] = 1\n",
    "group = train[['Ticket','Fare','count']].groupby('Ticket').sum()\n",
    "group['Fare'] = group['Fare']/group['count']\n",
    "group['FarePerPerson'] = (group['Fare'])/group['count']\n",
    "\n",
    "def map_fare_perperson(ticket):\n",
    "    \"\"\"Counts people per tickets and divides the fare per number of people in a ticket.\n",
    "    Uses the group helper table with aggregated results.\n",
    "    \"\"\"\n",
    "\n",
    "    row_names=np.array(list(group.index.values))\n",
    "    loc=np.where(row_names == ticket)[0][0]\n",
    "    \n",
    "    return(group['FarePerPerson'][loc:loc+1][0])\n",
    "\n",
    "train['FarePerPerson'] = train['Ticket'].map(lambda x: map_fare_perperson(x))"
   ]
  },
  {
   "cell_type": "code",
   "execution_count": 200,
   "metadata": {},
   "outputs": [],
   "source": [
    "# Create Deck - just first letter (Deck)\n",
    "\n",
    "#leaving NA values (will just be 0s in one-hot encoding)\n",
    "def clean_cabin(x):\n",
    "    \"\"\"Extract the Deck information, first letter only, \n",
    "    Limit to six groups, A through F, binning other decks to F.\n",
    "    \"\"\"\n",
    "    \n",
    "    letter=x[0]\n",
    "    \n",
    "    if letter not in 'ABCDEF':\n",
    "        letter='F'\n",
    "        \n",
    "    return(letter)\n",
    "    \n",
    "train['Deck']=train['Cabin'].map(lambda x: clean_cabin(x), na_action='ignore')"
   ]
  },
  {
   "cell_type": "code",
   "execution_count": 201,
   "metadata": {},
   "outputs": [],
   "source": [
    "# Embarked\n",
    "# impute two missing with majority class\n",
    "train['Embarked']=train['Embarked'].fillna('S')"
   ]
  },
  {
   "cell_type": "code",
   "execution_count": 202,
   "metadata": {},
   "outputs": [],
   "source": [
    "# Age\n",
    "# impute with group medians given gender, passenger class, and title\n",
    "train['Age'] = train.groupby(['Sex', 'Pclass','Title'])['Age'].transform(lambda x: x.fillna(x.median()))"
   ]
  },
  {
   "cell_type": "markdown",
   "metadata": {},
   "source": [
    "## Binary Indicators:"
   ]
  },
  {
   "cell_type": "code",
   "execution_count": 203,
   "metadata": {},
   "outputs": [],
   "source": [
    "# Sex\n",
    "train['IsMale'] = pd.get_dummies(train['Sex'])['male']"
   ]
  },
  {
   "cell_type": "code",
   "execution_count": 204,
   "metadata": {},
   "outputs": [],
   "source": [
    "# Embarked\n",
    "train['Embarked_S']=pd.get_dummies(train['Embarked'])['S']\n",
    "train['Embarked_Q']=pd.get_dummies(train['Embarked'])['Q']"
   ]
  },
  {
   "cell_type": "code",
   "execution_count": 206,
   "metadata": {},
   "outputs": [],
   "source": [
    "# Title\n",
    "train['Title_Mr']=pd.get_dummies(train['Title'])['Mr']\n",
    "train['Title_Mrs']=pd.get_dummies(train['Title'])['Mrs']\n",
    "train['Title_Miss']=pd.get_dummies(train['Title'])['Miss']"
   ]
  },
  {
   "cell_type": "code",
   "execution_count": 207,
   "metadata": {},
   "outputs": [],
   "source": [
    "# Pclass\n",
    "train['Pclass_1']=pd.get_dummies(train['Pclass'])[1]\n",
    "train['Pclass_2']=pd.get_dummies(train['Pclass'])[2]"
   ]
  },
  {
   "cell_type": "code",
   "execution_count": 208,
   "metadata": {},
   "outputs": [],
   "source": [
    "# Deck\n",
    "train['Deck'].fillna('None') # create a None category for NA values\n",
    "train['Deck_A']=pd.get_dummies(train['Deck'])['A']\n",
    "train['Deck_B']=pd.get_dummies(train['Deck'])['B']\n",
    "train['Deck_C']=pd.get_dummies(train['Deck'])['C']\n",
    "train['Deck_D']=pd.get_dummies(train['Deck'])['D']\n",
    "train['Deck_E']=pd.get_dummies(train['Deck'])['E']\n",
    "train['Deck_F']=pd.get_dummies(train['Deck'])['F']"
   ]
  },
  {
   "cell_type": "code",
   "execution_count": 209,
   "metadata": {},
   "outputs": [],
   "source": [
    "# drop unwanted, redundant columns\n",
    "train.drop(['Pclass','Name','Sex','SibSp','Parch','Ticket','Fare',\\\n",
    "            'Cabin','count','Embarked','Title','Deck'], axis=1, inplace=True)"
   ]
  },
  {
   "cell_type": "code",
   "execution_count": 210,
   "metadata": {},
   "outputs": [
    {
     "data": {
      "text/html": [
       "<div>\n",
       "<style scoped>\n",
       "    .dataframe tbody tr th:only-of-type {\n",
       "        vertical-align: middle;\n",
       "    }\n",
       "\n",
       "    .dataframe tbody tr th {\n",
       "        vertical-align: top;\n",
       "    }\n",
       "\n",
       "    .dataframe thead th {\n",
       "        text-align: right;\n",
       "    }\n",
       "</style>\n",
       "<table border=\"1\" class=\"dataframe\">\n",
       "  <thead>\n",
       "    <tr style=\"text-align: right;\">\n",
       "      <th></th>\n",
       "      <th>PassengerId</th>\n",
       "      <th>Survived</th>\n",
       "      <th>Age</th>\n",
       "      <th>NameLength</th>\n",
       "      <th>NumRelatives</th>\n",
       "      <th>FarePerPerson</th>\n",
       "      <th>IsMale</th>\n",
       "      <th>Embarked_S</th>\n",
       "      <th>Embarked_Q</th>\n",
       "      <th>Title_Mr</th>\n",
       "      <th>Title_Mrs</th>\n",
       "      <th>Title_Miss</th>\n",
       "      <th>Pclass_1</th>\n",
       "      <th>Pclass_2</th>\n",
       "      <th>Deck_A</th>\n",
       "      <th>Deck_B</th>\n",
       "      <th>Deck_C</th>\n",
       "      <th>Deck_D</th>\n",
       "      <th>Deck_E</th>\n",
       "      <th>Deck_F</th>\n",
       "    </tr>\n",
       "  </thead>\n",
       "  <tbody>\n",
       "    <tr>\n",
       "      <th>0</th>\n",
       "      <td>1</td>\n",
       "      <td>0</td>\n",
       "      <td>22.0</td>\n",
       "      <td>23</td>\n",
       "      <td>1</td>\n",
       "      <td>7.2500</td>\n",
       "      <td>1</td>\n",
       "      <td>1</td>\n",
       "      <td>0</td>\n",
       "      <td>1</td>\n",
       "      <td>0</td>\n",
       "      <td>0</td>\n",
       "      <td>0</td>\n",
       "      <td>0</td>\n",
       "      <td>0</td>\n",
       "      <td>0</td>\n",
       "      <td>0</td>\n",
       "      <td>0</td>\n",
       "      <td>0</td>\n",
       "      <td>0</td>\n",
       "    </tr>\n",
       "    <tr>\n",
       "      <th>1</th>\n",
       "      <td>2</td>\n",
       "      <td>1</td>\n",
       "      <td>38.0</td>\n",
       "      <td>51</td>\n",
       "      <td>1</td>\n",
       "      <td>71.2833</td>\n",
       "      <td>0</td>\n",
       "      <td>0</td>\n",
       "      <td>0</td>\n",
       "      <td>0</td>\n",
       "      <td>1</td>\n",
       "      <td>0</td>\n",
       "      <td>1</td>\n",
       "      <td>0</td>\n",
       "      <td>0</td>\n",
       "      <td>0</td>\n",
       "      <td>1</td>\n",
       "      <td>0</td>\n",
       "      <td>0</td>\n",
       "      <td>0</td>\n",
       "    </tr>\n",
       "    <tr>\n",
       "      <th>2</th>\n",
       "      <td>3</td>\n",
       "      <td>1</td>\n",
       "      <td>26.0</td>\n",
       "      <td>22</td>\n",
       "      <td>0</td>\n",
       "      <td>7.9250</td>\n",
       "      <td>0</td>\n",
       "      <td>1</td>\n",
       "      <td>0</td>\n",
       "      <td>0</td>\n",
       "      <td>0</td>\n",
       "      <td>1</td>\n",
       "      <td>0</td>\n",
       "      <td>0</td>\n",
       "      <td>0</td>\n",
       "      <td>0</td>\n",
       "      <td>0</td>\n",
       "      <td>0</td>\n",
       "      <td>0</td>\n",
       "      <td>0</td>\n",
       "    </tr>\n",
       "    <tr>\n",
       "      <th>3</th>\n",
       "      <td>4</td>\n",
       "      <td>1</td>\n",
       "      <td>35.0</td>\n",
       "      <td>44</td>\n",
       "      <td>1</td>\n",
       "      <td>26.5500</td>\n",
       "      <td>0</td>\n",
       "      <td>1</td>\n",
       "      <td>0</td>\n",
       "      <td>0</td>\n",
       "      <td>1</td>\n",
       "      <td>0</td>\n",
       "      <td>1</td>\n",
       "      <td>0</td>\n",
       "      <td>0</td>\n",
       "      <td>0</td>\n",
       "      <td>1</td>\n",
       "      <td>0</td>\n",
       "      <td>0</td>\n",
       "      <td>0</td>\n",
       "    </tr>\n",
       "    <tr>\n",
       "      <th>4</th>\n",
       "      <td>5</td>\n",
       "      <td>0</td>\n",
       "      <td>35.0</td>\n",
       "      <td>24</td>\n",
       "      <td>0</td>\n",
       "      <td>8.0500</td>\n",
       "      <td>1</td>\n",
       "      <td>1</td>\n",
       "      <td>0</td>\n",
       "      <td>1</td>\n",
       "      <td>0</td>\n",
       "      <td>0</td>\n",
       "      <td>0</td>\n",
       "      <td>0</td>\n",
       "      <td>0</td>\n",
       "      <td>0</td>\n",
       "      <td>0</td>\n",
       "      <td>0</td>\n",
       "      <td>0</td>\n",
       "      <td>0</td>\n",
       "    </tr>\n",
       "  </tbody>\n",
       "</table>\n",
       "</div>"
      ],
      "text/plain": [
       "   PassengerId  Survived   Age  NameLength  NumRelatives  FarePerPerson  \\\n",
       "0            1         0  22.0          23             1         7.2500   \n",
       "1            2         1  38.0          51             1        71.2833   \n",
       "2            3         1  26.0          22             0         7.9250   \n",
       "3            4         1  35.0          44             1        26.5500   \n",
       "4            5         0  35.0          24             0         8.0500   \n",
       "\n",
       "   IsMale  Embarked_S  Embarked_Q  Title_Mr  Title_Mrs  Title_Miss  Pclass_1  \\\n",
       "0       1           1           0         1          0           0         0   \n",
       "1       0           0           0         0          1           0         1   \n",
       "2       0           1           0         0          0           1         0   \n",
       "3       0           1           0         0          1           0         1   \n",
       "4       1           1           0         1          0           0         0   \n",
       "\n",
       "   Pclass_2  Deck_A  Deck_B  Deck_C  Deck_D  Deck_E  Deck_F  \n",
       "0         0       0       0       0       0       0       0  \n",
       "1         0       0       0       1       0       0       0  \n",
       "2         0       0       0       0       0       0       0  \n",
       "3         0       0       0       1       0       0       0  \n",
       "4         0       0       0       0       0       0       0  "
      ]
     },
     "execution_count": 210,
     "metadata": {},
     "output_type": "execute_result"
    }
   ],
   "source": [
    "train.head()"
   ]
  },
  {
   "cell_type": "code",
   "execution_count": null,
   "metadata": {},
   "outputs": [],
   "source": []
  }
 ],
 "metadata": {
  "kernelspec": {
   "display_name": "Python 3",
   "language": "python",
   "name": "python3"
  },
  "language_info": {
   "codemirror_mode": {
    "name": "ipython",
    "version": 3
   },
   "file_extension": ".py",
   "mimetype": "text/x-python",
   "name": "python",
   "nbconvert_exporter": "python",
   "pygments_lexer": "ipython3",
   "version": "3.7.2"
  }
 },
 "nbformat": 4,
 "nbformat_minor": 1
}
