{
 "cells": [
  {
   "cell_type": "markdown",
   "metadata": {
    "_cell_guid": "dea4893b-a33f-4c70-b33a-4265bdb14bd1",
    "_uuid": "e2ae0dda-05df-4bee-ae8f-5b612c7276e8"
   },
   "source": [
    "# Titanic Survival Part 2: Machine Learning Predictions in Python"
   ]
  },
  {
   "cell_type": "code",
   "execution_count": 1,
   "metadata": {
    "_cell_guid": "8ed67410-0b1c-4624-a678-425c37d80aa5",
    "_uuid": "15baa9c3-9543-4522-bfc5-e6cff3818b15"
   },
   "outputs": [],
   "source": [
    "# import modules\n",
    "import numpy as np \n",
    "import pandas as pd \n",
    "import os\n",
    "import re \n",
    "\n",
    "# load train dataset \n",
    "train = pd.read_csv(\"../input/train.csv\")"
   ]
  },
  {
   "cell_type": "code",
   "execution_count": 2,
   "metadata": {
    "_cell_guid": "10bb657a-9a2c-4077-be6f-4d04165611d7",
    "_uuid": "8b1572f3-c910-4cd1-a47d-829395b4bd61"
   },
   "outputs": [],
   "source": [
    "# simplify Name\n",
    "def extract_title(a_name):\n",
    "    \"\"\"Given a name from the Name column, extract the title by searching for the pattern, \n",
    "       returning a tuple that identifies whether the regex worked or not.\n",
    "    \"\"\"\n",
    "    try:\n",
    "        return (True, *tuple(re.search(r',\\s(.+?)\\.', a_name).groups()))\n",
    "    except:\n",
    "        return (False, a_name)\n",
    "    \n",
    "parsed_name = train['Name'].map(lambda x: extract_title(x))    "
   ]
  },
  {
   "cell_type": "code",
   "execution_count": 3,
   "metadata": {
    "_cell_guid": "ecc1ec02-ead0-4eef-b213-192d22e33f71",
    "_uuid": "768ffbeb-a940-42ab-966d-7bb660d736ae"
   },
   "outputs": [],
   "source": [
    "# ensure all names were parsed\n",
    "def sum_line(line):\n",
    "    ct = 0\n",
    "    if line[0] == True:\n",
    "        ct += 1\n",
    "    return ct\n",
    "\n",
    "passed = parsed_name.map(lambda x: sum_line(x))\n",
    "assert sum(passed) == len(parsed_name)"
   ]
  },
  {
   "cell_type": "code",
   "execution_count": 4,
   "metadata": {},
   "outputs": [],
   "source": [
    "# create Title\n",
    "def simplify_title(x):\n",
    "    \"\"\"\"Given a parsed name, extract the title from the tuple, \n",
    "       if it belongs to a common title, return that, otherwise, return 'rare'\n",
    "    \"\"\"\n",
    "    try:\n",
    "        a,b = x\n",
    "        if b in [\"Mr\", \"Mrs\", \"Miss\"]:\n",
    "            return (b)\n",
    "        else:\n",
    "            return ('Rare')\n",
    "    except:\n",
    "        return ('')\n",
    "\n",
    "train['Title'] = parsed_name.map(lambda x: simplify_title(x))"
   ]
  },
  {
   "cell_type": "code",
   "execution_count": 5,
   "metadata": {},
   "outputs": [],
   "source": [
    "# Create NameLength\n",
    "train['NameLength'] = train['Name'].map(lambda x: len(x))"
   ]
  },
  {
   "cell_type": "code",
   "execution_count": 6,
   "metadata": {},
   "outputs": [],
   "source": [
    "# Create Is Male\n",
    "def is_male(x):\n",
    "    try:\n",
    "        if x == 'male':\n",
    "            return(1)\n",
    "        else:\n",
    "            return(0)\n",
    "    except:\n",
    "        pass\n",
    "    \n",
    "train['IsMale'] = train['Sex'].map(lambda x: is_male(x))"
   ]
  },
  {
   "cell_type": "code",
   "execution_count": 7,
   "metadata": {},
   "outputs": [],
   "source": [
    "# Create NumRelatives\n",
    "train['NumRelatives'] = train['SibSp'] + train['Parch']"
   ]
  },
  {
   "cell_type": "code",
   "execution_count": 8,
   "metadata": {},
   "outputs": [],
   "source": [
    "# Create FarePerPerson\n",
    "train['count'] = 1\n",
    "group = train[['Ticket','Fare','count']].groupby('Ticket').sum()\n",
    "group['Fare'] = group['Fare']/group['count']\n",
    "group['FarePerPerson'] = (group['Fare'])/group['count']\n",
    "\n",
    "def map_fare_perperson(a_ticket):\n",
    "\n",
    "    row_names=list(group.index.values)\n",
    "    row_names_array=np.array(row_names)\n",
    "    loc=np.where(row_names_array == a_ticket)[0][0]\n",
    "    return(group['FarePerPerson'][loc:loc+1][0])\n",
    "\n",
    "train['FarePerPerson'] = train['Ticket'].map(lambda x: map_fare_perperson(x))"
   ]
  },
  {
   "cell_type": "code",
   "execution_count": 9,
   "metadata": {},
   "outputs": [],
   "source": [
    "train.drop(['Name', 'Sex','SibSp','Parch','Ticket','Fare','count'], axis=1, inplace=True, errors='ignore')"
   ]
  },
  {
   "cell_type": "code",
   "execution_count": 10,
   "metadata": {},
   "outputs": [],
   "source": [
    "# Create Deck - just first letter (Deck)\n",
    "\n",
    "#leaving NA values (will just be 0s in one-hot encoding)\n",
    "def clean_cabin(x):\n",
    "    \n",
    "    letter=x[0]\n",
    "    \n",
    "    if letter not in 'ABCDEF':\n",
    "        letter='F'\n",
    "        \n",
    "    return(letter)\n",
    "    \n",
    "train['Deck']=train['Cabin'].map(lambda x: clean_cabin(x), na_action='ignore')"
   ]
  },
  {
   "cell_type": "code",
   "execution_count": 11,
   "metadata": {},
   "outputs": [],
   "source": [
    "# Embarked\n",
    "# impute two missing with majority class\n",
    "train['Embarked']=train['Embarked'].fillna('S')"
   ]
  },
  {
   "cell_type": "code",
   "execution_count": 12,
   "metadata": {},
   "outputs": [],
   "source": [
    "# Age\n",
    "\n",
    "# impute missing values using random values from the normal distribution\n",
    "np.random.seed(123)\n",
    "size = len(train['Age'][train['Age'].isna()])\n",
    "mu, sigma = train['Age'].mean(), np.std(train['Age'])\n",
    "\n",
    "# set seed\n",
    "imputed_ages = np.round_(np.random.normal(mu, sigma, size))\n",
    "imputed_ages[imputed_ages < 0] = 0\n",
    "imputed_ages = pd.Series(imputed_ages)"
   ]
  },
  {
   "cell_type": "code",
   "execution_count": 13,
   "metadata": {},
   "outputs": [
    {
     "name": "stderr",
     "output_type": "stream",
     "text": [
      "/home/vagrant/miniconda3/envs/py37/lib/python3.7/site-packages/ipykernel_launcher.py:6: SettingWithCopyWarning: \n",
      "A value is trying to be set on a copy of a slice from a DataFrame\n",
      "\n",
      "See the caveats in the documentation: http://pandas.pydata.org/pandas-docs/stable/indexing.html#indexing-view-versus-copy\n",
      "  \n"
     ]
    }
   ],
   "source": [
    "indices=np.where(train['Age'].isna())[0].tolist()\n",
    "\n",
    "for i in range(0, len(indices)):\n",
    "    \n",
    "    index=indices[i]\n",
    "    train['Age'][index]=imputed_ages[i]"
   ]
  },
  {
   "cell_type": "markdown",
   "metadata": {},
   "source": [
    "## One-Hot Encoding\n",
    "\n",
    "* Title: 3 dummies\n",
    "* Cabin: 5 dummies\n",
    "* Embarked: 2 dummies\n",
    "* Sex: 1 dummy\n",
    "* Pclass: 2 dummies\n",
    "* Age: numeric or 4 dummies\n"
   ]
  }
 ],
 "metadata": {
  "kernelspec": {
   "display_name": "Python 3",
   "language": "python",
   "name": "python3"
  },
  "language_info": {
   "codemirror_mode": {
    "name": "ipython",
    "version": 3
   },
   "file_extension": ".py",
   "mimetype": "text/x-python",
   "name": "python",
   "nbconvert_exporter": "python",
   "pygments_lexer": "ipython3",
   "version": "3.7.2"
  }
 },
 "nbformat": 4,
 "nbformat_minor": 1
}
