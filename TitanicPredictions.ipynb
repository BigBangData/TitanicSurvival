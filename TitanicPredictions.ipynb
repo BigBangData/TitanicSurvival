{
 "cells": [
  {
   "cell_type": "markdown",
   "metadata": {
    "_cell_guid": "dea4893b-a33f-4c70-b33a-4265bdb14bd1",
    "_uuid": "e2ae0dda-05df-4bee-ae8f-5b612c7276e8"
   },
   "source": [
    "# Titanic Survival Part 3: Training Classifiers for Accuracy\n",
    "\n",
    "In Part 1 of this project I conduct Exploratory Data Analysis (EDA) of the Titanic training data using R. This exploration can be found [here.](http://rpubs.com/BigBangData/512981)\n",
    "\n",
    "In Part 2 I continue the exploration using Python and building a couple of basic models. This is not intended as the goal of the competition, just an exploration of modeling in Python.\n",
    "\n",
    "In Part 3 (this notebook) I create a pre-processing pipeline and train several models in Python using the scikit-learn module, and submit my predictions to the competition.\n"
   ]
  },
  {
   "cell_type": "code",
   "execution_count": 23,
   "metadata": {},
   "outputs": [
    {
     "data": {
      "text/html": [
       "<style>.container { width:100% !important; }</style>"
      ],
      "text/plain": [
       "<IPython.core.display.HTML object>"
      ]
     },
     "metadata": {},
     "output_type": "display_data"
    },
    {
     "name": "stdout",
     "output_type": "stream",
     "text": [
      "Revised on: 2020-01-02\n"
     ]
    }
   ],
   "source": [
    "from IPython.core.display import display, HTML\n",
    "display(HTML(\"<style>.container { width:100% !important; }</style>\"))\n",
    "\n",
    "from datetime import datetime\n",
    "import time\n",
    "\n",
    "dt_object = datetime.fromtimestamp(time.time())\n",
    "dt_object = str(dt_object).split('.')[0]\n",
    "\n",
    "Date, Time = dt_object.split(' ')\n",
    "print('Revised on: ' + Date)"
   ]
  },
  {
   "cell_type": "markdown",
   "metadata": {},
   "source": [
    "## Pre-Processing"
   ]
  },
  {
   "cell_type": "code",
   "execution_count": 1,
   "metadata": {
    "_cell_guid": "8ed67410-0b1c-4624-a678-425c37d80aa5",
    "_uuid": "15baa9c3-9543-4522-bfc5-e6cff3818b15"
   },
   "outputs": [],
   "source": [
    "# import modules\n",
    "import pandas as pd\n",
    "import numpy as np\n",
    "\n",
    "# custom pre-processing module\n",
    "import processing_pipeline as pp  \n",
    "\n",
    "# load datasets\n",
    "train_data = pd.read_csv(\"../input/train.csv\")\n",
    "test_data = pd.read_csv(\"../input/test.csv\")\n",
    "\n",
    "# separate target from predictors in training set\n",
    "survived_labels = train_data['Survived'].copy()\n",
    "train_data_nolabel = train_data.drop('Survived', axis=1)\n",
    "\n",
    "# get processed training data and labels\n",
    "X = pp.process_train(train_data_nolabel)\n",
    "y = survived_labels.to_numpy()"
   ]
  },
  {
   "cell_type": "markdown",
   "metadata": {},
   "source": [
    "## Modeling"
   ]
  },
  {
   "cell_type": "markdown",
   "metadata": {},
   "source": [
    "### Stochastic Gradient Descent"
   ]
  },
  {
   "cell_type": "code",
   "execution_count": 2,
   "metadata": {},
   "outputs": [],
   "source": [
    "from sklearn.linear_model import SGDClassifier\n",
    "from sklearn.model_selection import cross_val_score\n",
    "     \n",
    "sgd_clf = SGDClassifier(random_state=42)\n",
    "    \n",
    "accuracies = cross_val_score(estimator=sgd_clf, X=X, y=y, cv=100)"
   ]
  },
  {
   "cell_type": "code",
   "execution_count": 3,
   "metadata": {},
   "outputs": [
    {
     "data": {
      "text/plain": [
       "(0.7824, 0.1362)"
      ]
     },
     "execution_count": 3,
     "metadata": {},
     "output_type": "execute_result"
    }
   ],
   "source": [
    "mn, sd = round(accuracies.mean(),4), round(accuracies.std(),4)\n",
    "mn, sd"
   ]
  },
  {
   "cell_type": "markdown",
   "metadata": {},
   "source": [
    "As seen in the previous notebook, the SDG model is too variable."
   ]
  },
  {
   "cell_type": "markdown",
   "metadata": {},
   "source": [
    "### Random Forests"
   ]
  },
  {
   "cell_type": "code",
   "execution_count": 4,
   "metadata": {},
   "outputs": [],
   "source": [
    "from sklearn.ensemble import RandomForestClassifier\n",
    "from sklearn.model_selection import cross_val_predict\n",
    "from sklearn.model_selection import GridSearchCV\n",
    "import pickle"
   ]
  },
  {
   "cell_type": "markdown",
   "metadata": {},
   "source": [
    "A grid search shows which are the best parameters for the highest accuracy across a range of values. Here we construct a 20 x 2 x 2 = 80-parameter grid search:\n"
   ]
  },
  {
   "cell_type": "code",
   "execution_count": 19,
   "metadata": {},
   "outputs": [],
   "source": [
    "# load pickled model so as to skip the grid search in future notebook runs\n",
    "try:\n",
    "    grid_search = pickle.load(open('./RandomForest_GridSearch.sav', 'rb'))\n",
    "except FileNotFoundError as e:\n",
    "    num_estimators = list(range(50,5000,250))\n",
    "    \n",
    "    grid_param = {\n",
    "        'n_estimators': num_estimators,\n",
    "        'criterion': ['gini', 'entropy'],\n",
    "        'bootstrap': [True, False]\n",
    "    }\n",
    "    \n",
    "    grid_search = GridSearchCV(estimator=RandomForestClassifier(random_state=42),\n",
    "                               param_grid=grid_param,\n",
    "                               scoring='accuracy',\n",
    "                               cv=5,\n",
    "                               n_jobs=-1)\n",
    "    \n",
    "    # running the grid search: this takes time...\n",
    "    grid_search.fit(X,y)\n",
    "    \n",
    "    # pickle the model for future ease\n",
    "    pickle.dump(grid_search, open('./RandomForest_GridSearch.sav', 'wb'))"
   ]
  },
  {
   "cell_type": "code",
   "execution_count": 21,
   "metadata": {},
   "outputs": [
    {
     "data": {
      "text/plain": [
       "({'bootstrap': True, 'criterion': 'entropy', 'n_estimators': 300}, 0.8193)"
      ]
     },
     "execution_count": 21,
     "metadata": {},
     "output_type": "execute_result"
    }
   ],
   "source": [
    "# best arameters and the best accuracy\n",
    "grid_search.best_params_ , round(grid_search.best_score_, 4)"
   ]
  },
  {
   "cell_type": "code",
   "execution_count": 22,
   "metadata": {},
   "outputs": [
    {
     "data": {
      "text/plain": [
       "dict_keys(['mean_fit_time', 'std_fit_time', 'mean_score_time', 'std_score_time', 'param_bootstrap', 'param_criterion', 'param_n_estimators', 'params', 'split0_test_score', 'split1_test_score', 'split2_test_score', 'split3_test_score', 'split4_test_score', 'mean_test_score', 'std_test_score', 'rank_test_score'])"
      ]
     },
     "execution_count": 22,
     "metadata": {},
     "output_type": "execute_result"
    }
   ],
   "source": [
    "grid_search.cv_results_.keys()"
   ]
  },
  {
   "cell_type": "code",
   "execution_count": 23,
   "metadata": {},
   "outputs": [],
   "source": [
    "cv_res1 = grid_search.cv_results_['split0_test_score']\n",
    "cv_res2 = grid_search.cv_results_['split1_test_score']\n",
    "cv_res3 = grid_search.cv_results_['split2_test_score']\n",
    "cv_res4 = grid_search.cv_results_['split3_test_score']\n",
    "cv_res5 = grid_search.cv_results_['split4_test_score']"
   ]
  },
  {
   "cell_type": "code",
   "execution_count": 52,
   "metadata": {},
   "outputs": [
    {
     "data": {
      "text/plain": [
       "array([21, 27, 22, 27, 22, 22, 27, 40, 34, 27, 34, 34, 22, 22, 27, 27, 34,\n",
       "       34, 27, 34,  3,  1,  1,  3,  3, 16, 16, 10, 10, 16, 16, 16,  3,  3,\n",
       "       10, 10, 10, 10,  3,  3, 80, 53, 45, 68, 68, 68, 45, 42, 42, 45, 53,\n",
       "       45, 53, 53, 53, 53, 53, 68, 77, 77, 79, 41, 53, 42, 45, 53, 68, 68,\n",
       "       53, 53, 45, 45, 53, 45, 53, 53, 68, 68, 53, 68], dtype=int32)"
      ]
     },
     "execution_count": 52,
     "metadata": {},
     "output_type": "execute_result"
    }
   ],
   "source": [
    "grid_search.cv_results_['rank_test_score']"
   ]
  },
  {
   "cell_type": "code",
   "execution_count": 28,
   "metadata": {},
   "outputs": [],
   "source": [
    "param_arr = grid_search.cv_results_['params']\n",
    "\n",
    "bootstraps = []\n",
    "criteria = []\n",
    "estimators = []\n",
    "for i in param_arr:\n",
    "    bootstraps.append(i['bootstrap'])\n",
    "    criteria.append(i['criterion'])\n",
    "    estimators.append(i['n_estimators'])"
   ]
  },
  {
   "cell_type": "code",
   "execution_count": 50,
   "metadata": {},
   "outputs": [],
   "source": [
    "data = pd.DataFrame(list(zip(bootstraps, criteria, estimators,cv_res1,cv_res2,cv_res3,cv_res4,cv_res5))\n",
    "                    ,columns = ['bootstrap','criterion','n_estimators','cv1','cv2','cv3','cv4','cv5'])"
   ]
  },
  {
   "cell_type": "code",
   "execution_count": 107,
   "metadata": {},
   "outputs": [],
   "source": [
    "boot_gini = data[(data.bootstrap == True)  & (data.criterion == 'gini')].copy()\n",
    "boot_entr = data[(data.bootstrap == True)  & (data.criterion == 'entropy')].copy()\n",
    "noot_gini = data[(data.bootstrap == False)  & (data.criterion == 'gini')].copy()\n",
    "noot_entr = data[(data.bootstrap == False)  & (data.criterion == 'entropy')].copy()"
   ]
  },
  {
   "cell_type": "code",
   "execution_count": 108,
   "metadata": {},
   "outputs": [],
   "source": [
    "%matplotlib inline\n",
    "import matplotlib.pyplot as plt\n",
    "plt.style.use('seaborn-whitegrid')"
   ]
  },
  {
   "cell_type": "code",
   "execution_count": 117,
   "metadata": {
    "scrolled": true
   },
   "outputs": [
    {
     "data": {
      "image/png": "[encoded data removed]",
      "text/plain": [
       "<Figure size 432x288 with 1 Axes>"
      ]
     },
     "metadata": {},
     "output_type": "display_data"
    }
   ],
   "source": [
    "x = list(boot_gini['n_estimators'])\n",
    "Y1 = list(boot_gini['cv1'])\n",
    "Y2 = list(boot_gini['cv2'])\n",
    "Y3 = list(boot_gini['cv3'])\n",
    "Y4 = list(boot_gini['cv4'])\n",
    "Y5 = list(boot_gini['cv5'])\n",
    "\n",
    "plt.axis([0, 5000, .75, .85])\n",
    "plt.plot(x, Y1)\n",
    "plt.plot(x, Y2)\n",
    "plt.plot(x, Y3)\n",
    "plt.plot(x, Y4)\n",
    "plt.plot(x, Y5)\n",
    "plt.show()"
   ]
  },
  {
   "cell_type": "code",
   "execution_count": 118,
   "metadata": {},
   "outputs": [
    {
     "data": {
      "image/png": "[encoded data removed]",
      "text/plain": [
       "<Figure size 432x288 with 1 Axes>"
      ]
     },
     "metadata": {},
     "output_type": "display_data"
    }
   ],
   "source": [
    "x = list(boot_entr['n_estimators'])\n",
    "Y1 = list(boot_entr['cv1'])\n",
    "Y2 = list(boot_entr['cv2'])\n",
    "Y3 = list(boot_entr['cv3'])\n",
    "Y4 = list(boot_entr['cv4'])\n",
    "Y5 = list(boot_entr['cv5'])\n",
    "\n",
    "plt.axis([0, 5000, .75, .85])\n",
    "plt.plot(x, Y1)\n",
    "plt.plot(x, Y2)\n",
    "plt.plot(x, Y3)\n",
    "plt.plot(x, Y4)\n",
    "plt.plot(x, Y5)\n",
    "plt.show()"
   ]
  },
  {
   "cell_type": "code",
   "execution_count": 119,
   "metadata": {},
   "outputs": [
    {
     "data": {
      "image/png": "[encoded data removed]",
      "text/plain": [
       "<Figure size 432x288 with 1 Axes>"
      ]
     },
     "metadata": {},
     "output_type": "display_data"
    }
   ],
   "source": [
    " x = list(noot_gini['n_estimators'])\n",
    "Y1 = list(noot_gini['cv1'])\n",
    "Y2 = list(noot_gini['cv2'])\n",
    "Y3 = list(noot_gini['cv3'])\n",
    "Y4 = list(noot_gini['cv4'])\n",
    "Y5 = list(noot_gini['cv5'])\n",
    "\n",
    "plt.axis([0, 5000, .75, .85])\n",
    "plt.plot(x, Y1)\n",
    "plt.plot(x, Y2)\n",
    "plt.plot(x, Y3)\n",
    "plt.plot(x, Y4)\n",
    "plt.plot(x, Y5)\n",
    "plt.show()"
   ]
  },
  {
   "cell_type": "code",
   "execution_count": 120,
   "metadata": {},
   "outputs": [
    {
     "data": {
      "image/png": "[encoded data removed]",
      "text/plain": [
       "<Figure size 432x288 with 1 Axes>"
      ]
     },
     "metadata": {},
     "output_type": "display_data"
    }
   ],
   "source": [
    " x = list(noot_entr['n_estimators'])\n",
    "Y1 = list(noot_entr['cv1'])\n",
    "Y2 = list(noot_entr['cv2'])\n",
    "Y3 = list(noot_entr['cv3'])\n",
    "Y4 = list(noot_entr['cv4'])\n",
    "Y5 = list(noot_entr['cv5'])\n",
    "\n",
    "plt.axis([0, 5000, .75, .85])\n",
    "plt.plot(x, Y1)\n",
    "plt.plot(x, Y2)\n",
    "plt.plot(x, Y3)\n",
    "plt.plot(x, Y4)\n",
    "plt.plot(x, Y5)\n",
    "plt.show()"
   ]
  },
  {
   "cell_type": "code",
   "execution_count": null,
   "metadata": {},
   "outputs": [],
   "source": []
  },
  {
   "cell_type": "code",
   "execution_count": null,
   "metadata": {},
   "outputs": [],
   "source": []
  },
  {
   "cell_type": "code",
   "execution_count": null,
   "metadata": {},
   "outputs": [],
   "source": []
  },
  {
   "cell_type": "code",
   "execution_count": null,
   "metadata": {},
   "outputs": [],
   "source": []
  },
  {
   "cell_type": "code",
   "execution_count": null,
   "metadata": {},
   "outputs": [],
   "source": []
  },
  {
   "cell_type": "code",
   "execution_count": null,
   "metadata": {},
   "outputs": [],
   "source": []
  },
  {
   "cell_type": "markdown",
   "metadata": {},
   "source": [
    "## feature selection?"
   ]
  },
  {
   "cell_type": "code",
   "execution_count": null,
   "metadata": {},
   "outputs": [],
   "source": []
  },
  {
   "cell_type": "code",
   "execution_count": 11,
   "metadata": {},
   "outputs": [],
   "source": [
    "# best model\n",
    "forest_clf = RandomForestClassifier(bootstrap=True,\n",
    "                                    criterion='entropy',\n",
    "                                    n_estimators=300,\n",
    "                                    random_state=42)"
   ]
  },
  {
   "cell_type": "code",
   "execution_count": 13,
   "metadata": {},
   "outputs": [
    {
     "data": {
      "text/plain": [
       "(0.8249, 0.0308)"
      ]
     },
     "execution_count": 13,
     "metadata": {},
     "output_type": "execute_result"
    }
   ],
   "source": [
    "accuracies = cross_val_score(forest_clf, X, y, cv=10)\n",
    "mn, sd = round(accuracies.mean(),4), round(accuracies.std(),4)\n",
    "mn, sd"
   ]
  },
  {
   "cell_type": "code",
   "execution_count": 21,
   "metadata": {},
   "outputs": [],
   "source": [
    "grid_param = {\n",
    "    'n_estimators': [x for x in range(200, 410, 10)],\n",
    "    'criterion': ['gini', 'entropy'],\n",
    "    'bootstrap': [True, False]\n",
    "}"
   ]
  },
  {
   "cell_type": "code",
   "execution_count": 22,
   "metadata": {},
   "outputs": [],
   "source": [
    "grid_search = GridSearchCV(estimator=RandomForestClassifier(random_state=42),\n",
    "                           param_grid=grid_param,\n",
    "                           scoring='accuracy',\n",
    "                           cv=5,\n",
    "                           n_jobs=-1)"
   ]
  },
  {
   "cell_type": "code",
   "execution_count": 23,
   "metadata": {},
   "outputs": [
    {
     "data": {
      "text/plain": [
       "GridSearchCV(cv=5, error_score='raise-deprecating',\n",
       "             estimator=RandomForestClassifier(bootstrap=True, class_weight=None,\n",
       "                                              criterion='gini', max_depth=None,\n",
       "                                              max_features='auto',\n",
       "                                              max_leaf_nodes=None,\n",
       "                                              min_impurity_decrease=0.0,\n",
       "                                              min_impurity_split=None,\n",
       "                                              min_samples_leaf=1,\n",
       "                                              min_samples_split=2,\n",
       "                                              min_weight_fraction_leaf=0.0,\n",
       "                                              n_estimators='warn', n_jobs=None,\n",
       "                                              oob_score=False, random_state=42,\n",
       "                                              verbose=0, warm_start=False),\n",
       "             iid='warn', n_jobs=-1,\n",
       "             param_grid={'bootstrap': [True, False],\n",
       "                         'criterion': ['gini', 'entropy'],\n",
       "                         'n_estimators': [200, 210, 220, 230, 240, 250, 260,\n",
       "                                          270, 280, 290, 300, 310, 320, 330,\n",
       "                                          340, 350, 360, 370, 380, 390, 400]},\n",
       "             pre_dispatch='2*n_jobs', refit=True, return_train_score=False,\n",
       "             scoring='accuracy', verbose=0)"
      ]
     },
     "execution_count": 23,
     "metadata": {},
     "output_type": "execute_result"
    }
   ],
   "source": [
    "grid_search.fit(X,y)"
   ]
  },
  {
   "cell_type": "code",
   "execution_count": 24,
   "metadata": {},
   "outputs": [
    {
     "name": "stdout",
     "output_type": "stream",
     "text": [
      "{'bootstrap': True, 'criterion': 'entropy', 'n_estimators': 290}\n"
     ]
    }
   ],
   "source": [
    "best_parameters = grid_search.best_params_\n",
    "print(best_parameters)"
   ]
  },
  {
   "cell_type": "code",
   "execution_count": 25,
   "metadata": {},
   "outputs": [
    {
     "name": "stdout",
     "output_type": "stream",
     "text": [
      "0.8204264870931538\n"
     ]
    }
   ],
   "source": [
    "best_result = grid_search.best_score_\n",
    "print(best_result)"
   ]
  },
  {
   "cell_type": "code",
   "execution_count": 30,
   "metadata": {},
   "outputs": [],
   "source": [
    "grid_param = {\n",
    "    'n_estimators': [x for x in range(280, 310)],\n",
    "    'criterion': ['gini', 'entropy'],\n",
    "    'bootstrap': [True, False]\n",
    "}\n",
    "\n",
    "grid_search = GridSearchCV(estimator=RandomForestClassifier(random_state=42),\n",
    "                           param_grid=grid_param,\n",
    "                           scoring='accuracy',\n",
    "                           cv=5,\n",
    "                           n_jobs=-1)"
   ]
  },
  {
   "cell_type": "code",
   "execution_count": 31,
   "metadata": {},
   "outputs": [
    {
     "data": {
      "text/plain": [
       "GridSearchCV(cv=5, error_score='raise-deprecating',\n",
       "             estimator=RandomForestClassifier(bootstrap=True, class_weight=None,\n",
       "                                              criterion='gini', max_depth=None,\n",
       "                                              max_features='auto',\n",
       "                                              max_leaf_nodes=None,\n",
       "                                              min_impurity_decrease=0.0,\n",
       "                                              min_impurity_split=None,\n",
       "                                              min_samples_leaf=1,\n",
       "                                              min_samples_split=2,\n",
       "                                              min_weight_fraction_leaf=0.0,\n",
       "                                              n_estimators='warn', n_jobs=None,\n",
       "                                              oob_score=Fa...te=42,\n",
       "                                              verbose=0, warm_start=False),\n",
       "             iid='warn', n_jobs=-1,\n",
       "             param_grid={'bootstrap': [True, False],\n",
       "                         'criterion': ['gini', 'entropy'],\n",
       "                         'n_estimators': [280, 281, 282, 283, 284, 285, 286,\n",
       "                                          287, 288, 289, 290, 291, 292, 293,\n",
       "                                          294, 295, 296, 297, 298, 299, 300,\n",
       "                                          301, 302, 303, 304, 305, 306, 307,\n",
       "                                          308, 309]},\n",
       "             pre_dispatch='2*n_jobs', refit=True, return_train_score=False,\n",
       "             scoring='accuracy', verbose=0)"
      ]
     },
     "execution_count": 31,
     "metadata": {},
     "output_type": "execute_result"
    }
   ],
   "source": [
    "grid_search.fit(X,y)"
   ]
  },
  {
   "cell_type": "code",
   "execution_count": 32,
   "metadata": {},
   "outputs": [
    {
     "data": {
      "text/plain": [
       "{'bootstrap': True, 'criterion': 'entropy', 'n_estimators': 295}"
      ]
     },
     "execution_count": 32,
     "metadata": {},
     "output_type": "execute_result"
    }
   ],
   "source": [
    "best_parameters = grid_search.best_params_\n",
    "best_parameters"
   ]
  },
  {
   "cell_type": "code",
   "execution_count": 33,
   "metadata": {},
   "outputs": [
    {
     "data": {
      "text/plain": [
       "0.8215488215488216"
      ]
     },
     "execution_count": 33,
     "metadata": {},
     "output_type": "execute_result"
    }
   ],
   "source": [
    "best_result = grid_search.best_score_\n",
    "best_result"
   ]
  },
  {
   "cell_type": "code",
   "execution_count": 34,
   "metadata": {},
   "outputs": [],
   "source": [
    "grid_param = {\n",
    "    'n_estimators': [295, 1500, 2000, 3000],\n",
    "    'criterion': ['gini', 'entropy'],\n",
    "    'bootstrap': [True, False]\n",
    "}"
   ]
  },
  {
   "cell_type": "code",
   "execution_count": 35,
   "metadata": {},
   "outputs": [],
   "source": [
    "\n",
    "grid_search = GridSearchCV(estimator=RandomForestClassifier(random_state=42),\n",
    "                           param_grid=grid_param,\n",
    "                           scoring='accuracy',\n",
    "                           cv=5,\n",
    "                           n_jobs=-1)"
   ]
  },
  {
   "cell_type": "code",
   "execution_count": 36,
   "metadata": {},
   "outputs": [
    {
     "data": {
      "text/plain": [
       "GridSearchCV(cv=5, error_score='raise-deprecating',\n",
       "             estimator=RandomForestClassifier(bootstrap=True, class_weight=None,\n",
       "                                              criterion='gini', max_depth=None,\n",
       "                                              max_features='auto',\n",
       "                                              max_leaf_nodes=None,\n",
       "                                              min_impurity_decrease=0.0,\n",
       "                                              min_impurity_split=None,\n",
       "                                              min_samples_leaf=1,\n",
       "                                              min_samples_split=2,\n",
       "                                              min_weight_fraction_leaf=0.0,\n",
       "                                              n_estimators='warn', n_jobs=None,\n",
       "                                              oob_score=False, random_state=42,\n",
       "                                              verbose=0, warm_start=False),\n",
       "             iid='warn', n_jobs=-1,\n",
       "             param_grid={'bootstrap': [True, False],\n",
       "                         'criterion': ['gini', 'entropy'],\n",
       "                         'n_estimators': [295, 1500, 2000, 3000]},\n",
       "             pre_dispatch='2*n_jobs', refit=True, return_train_score=False,\n",
       "             scoring='accuracy', verbose=0)"
      ]
     },
     "execution_count": 36,
     "metadata": {},
     "output_type": "execute_result"
    }
   ],
   "source": [
    "grid_search.fit(X,y)"
   ]
  },
  {
   "cell_type": "code",
   "execution_count": 37,
   "metadata": {},
   "outputs": [
    {
     "data": {
      "text/plain": [
       "{'bootstrap': True, 'criterion': 'entropy', 'n_estimators': 295}"
      ]
     },
     "execution_count": 37,
     "metadata": {},
     "output_type": "execute_result"
    }
   ],
   "source": [
    "grid_search.best_params_ , grid_search.best_score_"
   ]
  },
  {
   "cell_type": "code",
   "execution_count": 40,
   "metadata": {},
   "outputs": [],
   "source": [
    "means = []\n",
    "sds = []\n",
    "\n",
    "for i in [x for x in range(250, 350, 5)]:\n",
    "    \n",
    "    forest_clf = RandomForestClassifier(bootstrap=True,\n",
    "                                        criterion='entropy',\n",
    "                                        n_estimators=i,\n",
    "                                        random_state=42)\n",
    "    \n",
    "    accuracies = cross_val_score(forest_clf, X, y, cv=10)\n",
    "    \n",
    "    means.append(round(accuracies.mean(),4))\n",
    "    sds.append(round(accuracies.std(),4))"
   ]
  },
  {
   "cell_type": "code",
   "execution_count": 73,
   "metadata": {},
   "outputs": [],
   "source": [
    "data = pd.DataFrame(list(zip([x for x in range(250,350,5)], means, sds)), \n",
    "             columns=['n_est','means','stdevs'])"
   ]
  },
  {
   "cell_type": "code",
   "execution_count": 67,
   "metadata": {},
   "outputs": [],
   "source": [
    "%matplotlib inline\n",
    "import matplotlib.pyplot as plt\n",
    "plt.style.use('seaborn-whitegrid')"
   ]
  },
  {
   "cell_type": "code",
   "execution_count": 102,
   "metadata": {},
   "outputs": [
    {
     "data": {
      "text/plain": [
       "[<matplotlib.lines.Line2D at 0x7f2ba981aba8>]"
      ]
     },
     "execution_count": 102,
     "metadata": {},
     "output_type": "execute_result"
    },
    {
     "data": {
      "image/png": "[encoded data removed]",
      "text/plain": [
       "<Figure size 432x288 with 1 Axes>"
      ]
     },
     "metadata": {
      "needs_background": "light"
     },
     "output_type": "display_data"
    }
   ],
   "source": [
    "x = np.array(data['n_est'])\n",
    "Y = np.array(data['means'])\n",
    "fig = plt.figure()\n",
    "ax = plt.axes()\n",
    "ax.plot(x, Y)"
   ]
  },
  {
   "cell_type": "code",
   "execution_count": 103,
   "metadata": {},
   "outputs": [],
   "source": [
    "# creating a CI\n",
    "for i in range(len(data)):\n",
    "    data.loc[i, 'upper'] = data.loc[i, 'means'] + 1.965*data.loc[i, 'stdevs']\n",
    "    data.loc[i, 'lower'] = data.loc[i, 'means'] - 1.965*data.loc[i, 'stdevs']"
   ]
  },
  {
   "cell_type": "code",
   "execution_count": 104,
   "metadata": {},
   "outputs": [
    {
     "data": {
      "text/plain": [
       "[<matplotlib.lines.Line2D at 0x7f2ba96864a8>]"
      ]
     },
     "execution_count": 104,
     "metadata": {},
     "output_type": "execute_result"
    },
    {
     "data": {
      "image/png": "[encoded data removed]",
      "text/plain": [
       "<Figure size 432x288 with 1 Axes>"
      ]
     },
     "metadata": {
      "needs_background": "light"
     },
     "output_type": "display_data"
    }
   ],
   "source": [
    "fig = plt.figure()\n",
    "ax = plt.axes()\n",
    "ax.plot(x, Y)\n",
    "plt.plot(x, np.array(data['upper']), linestyle='dashed')\n",
    "plt.plot(x, np.array(data['lower']), linestyle='dashed')"
   ]
  },
  {
   "cell_type": "code",
   "execution_count": 111,
   "metadata": {},
   "outputs": [],
   "source": [
    "means = []\n",
    "sds = []\n",
    "\n",
    "for i in list(range(100,1100,100)):\n",
    "    \n",
    "    forest_clf = RandomForestClassifier(bootstrap=True,\n",
    "                                        criterion='entropy',\n",
    "                                        n_estimators=i,\n",
    "                                        random_state=42)\n",
    "    \n",
    "    accuracies = cross_val_score(forest_clf, X, y, cv=10)\n",
    "    \n",
    "    means.append(round(accuracies.mean(),4))\n",
    "    sds.append(round(accuracies.std(),4))"
   ]
  },
  {
   "cell_type": "code",
   "execution_count": 113,
   "metadata": {},
   "outputs": [],
   "source": [
    "indices = list(range(100,1100,100))\n",
    "data = pd.DataFrame(list(zip(indices, means, sds)), \n",
    "             columns=['n_est','means','stdevs'])"
   ]
  },
  {
   "cell_type": "code",
   "execution_count": 115,
   "metadata": {},
   "outputs": [
    {
     "data": {
      "text/plain": [
       "[<matplotlib.lines.Line2D at 0x7f2ba99d7940>]"
      ]
     },
     "execution_count": 115,
     "metadata": {},
     "output_type": "execute_result"
    },
    {
     "data": {
      "image/png": "[encoded data removed]",
      "text/plain": [
       "<Figure size 432x288 with 1 Axes>"
      ]
     },
     "metadata": {
      "needs_background": "light"
     },
     "output_type": "display_data"
    }
   ],
   "source": [
    "x = np.array(data['n_est'])\n",
    "Y = np.array(data['means'])\n",
    "fig = plt.figure()\n",
    "ax = plt.axes()\n",
    "ax.plot(x, Y)"
   ]
  },
  {
   "cell_type": "code",
   "execution_count": 116,
   "metadata": {},
   "outputs": [],
   "source": [
    "# creating a CI\n",
    "for i in range(len(data)):\n",
    "    data.loc[i, 'upper'] = data.loc[i, 'means'] + 1.965*data.loc[i, 'stdevs']\n",
    "    data.loc[i, 'lower'] = data.loc[i, 'means'] - 1.965*data.loc[i, 'stdevs']"
   ]
  },
  {
   "cell_type": "code",
   "execution_count": 117,
   "metadata": {},
   "outputs": [
    {
     "data": {
      "text/plain": [
       "[<matplotlib.lines.Line2D at 0x7f2ba96355c0>]"
      ]
     },
     "execution_count": 117,
     "metadata": {},
     "output_type": "execute_result"
    },
    {
     "data": {
      "image/png": "[encoded data removed]",
      "text/plain": [
       "<Figure size 432x288 with 1 Axes>"
      ]
     },
     "metadata": {
      "needs_background": "light"
     },
     "output_type": "display_data"
    }
   ],
   "source": [
    "fig = plt.figure()\n",
    "ax = plt.axes()\n",
    "ax.plot(x, Y)\n",
    "plt.plot(x, np.array(data['upper']), linestyle='dashed')\n",
    "plt.plot(x, np.array(data['lower']), linestyle='dashed')"
   ]
  },
  {
   "cell_type": "code",
   "execution_count": 4,
   "metadata": {},
   "outputs": [],
   "source": [
    "index = list(range(295,6195,295))\n",
    "\n",
    "means = []\n",
    "sds = []\n",
    "\n",
    "for i in index:\n",
    "    \n",
    "    forest_clf = RandomForestClassifier(bootstrap=True,\n",
    "                                        criterion='entropy',\n",
    "                                        n_estimators=i,\n",
    "                                        random_state=42)\n",
    "    \n",
    "    accuracies = cross_val_score(forest_clf, X, y, cv=10)\n",
    "    \n",
    "    means.append(round(accuracies.mean(),4))\n",
    "    sds.append(round(accuracies.std(),4))\n",
    "\n",
    "data = pd.DataFrame(list(zip(index, means, sds)), \n",
    "             columns=['n_est','means','stdevs'])\n",
    "\n",
    "for i in range(len(data)):\n",
    "    data.loc[i, 'upper'] = data.loc[i, 'means'] + 1.965*data.loc[i, 'stdevs']\n",
    "    data.loc[i, 'lower'] = data.loc[i, 'means'] - 1.965*data.loc[i, 'stdevs']\n",
    "\n",
    "x = np.array(data['n_est'])\n",
    "Y = np.array(data['means'])\n",
    "fig = plt.figure()\n",
    "ax = plt.axes()\n",
    "ax.plot(x, Y)\n",
    "\n",
    "fig = plt.figure()\n",
    "ax = plt.axes()\n",
    "ax.plot(x, Y)\n",
    "plt.plot(x, np.array(data['upper']), linestyle='dashed')\n",
    "plt.plot(x, np.array(data['lower']), linestyle='dashed')"
   ]
  },
  {
   "cell_type": "code",
   "execution_count": null,
   "metadata": {},
   "outputs": [],
   "source": []
  }
 ],
 "metadata": {
  "kernelspec": {
   "display_name": "Python 3",
   "language": "python",
   "name": "python3"
  },
  "language_info": {
   "codemirror_mode": {
    "name": "ipython",
    "version": 3
   },
   "file_extension": ".py",
   "mimetype": "text/x-python",
   "name": "python",
   "nbconvert_exporter": "python",
   "pygments_lexer": "ipython3",
   "version": "3.7.2"
  }
 },
 "nbformat": 4,
 "nbformat_minor": 1
}
